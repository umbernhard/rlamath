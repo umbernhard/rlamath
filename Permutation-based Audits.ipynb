{
 "cells": [
  {
   "cell_type": "code",
   "execution_count": 47,
   "id": "extreme-citizen",
   "metadata": {},
   "outputs": [
    {
     "name": "stdout",
     "output_type": "stream",
     "text": [
      "Populating the interactive namespace from numpy and matplotlib\n"
     ]
    },
    {
     "name": "stderr",
     "output_type": "stream",
     "text": [
      "/home/vagrant/.local/lib/python3.8/site-packages/IPython/core/magics/pylab.py:159: UserWarning: pylab import has clobbered these variables: ['rc', 'margins']\n",
      "`%matplotlib` prevents importing * from pylab and numpy\n",
      "  warn(\"pylab import has clobbered these variables: %s\"  % clobbered +\n"
     ]
    }
   ],
   "source": [
    "%pylab inline\n",
    "from matplotlib.animation import FuncAnimation\n",
    "from matplotlib import animation, rc\n",
    "from IPython.display import HTML, Image\n",
    "\n",
    "rc('animation', html='html5')"
   ]
  },
  {
   "cell_type": "markdown",
   "id": "complete-luxury",
   "metadata": {},
   "source": [
    "# Introduction\n",
    "\n",
    "We can model elections as distributions of ballots, where a ballot is a vector of choices:\n",
    "\n",
    "$$\\vec{b} = (\\it{s_1}, \\it{s_2}\\dots \\it{s_n})$$\n",
    "\n",
    "For example, a ballot showing a vote for the candidate in the first position in a two choice, vote-for-one contest  might look like $(1, 0)$. Defining a ballot this way gives us flexibility to support many social choice functions, e.g. for RCV the \"votes\" could be rankings. However, in this example we will only examine a two-candidate, first-past-the-post contest\n",
    "\n",
    "Note that this isn't the only way to define a ballot. Methods like SHANGRLA assign an integer to various kinds of votes, for example. \n",
    "\n",
    "An election is then a distrubition of ballots. For simplicity, we will examine a contest with no invalid votes, i.e. no undervotes or overvotes. This allos us to shorten our notation for ballot by treating a vote for the first candidate as a 1 and a vote for the loser as a 0. If the contest has 10 ballots and the first candidate won with 6 votes, one possible distribution of ballots could be \n",
    "\n",
    "$$\\vec{e} = [0, 1, 1, 0, 0, 1, 1, 1, 1, 0]$$\n",
    "\n",
    "This particular election has $10 \\choose 6$ different possible distributions of votes. In general, there are $2^{n}$ possible elections. For ten ballots, that's $2^{10} = 1,024$ possible elections. We can plot the distributions of their margins:"
   ]
  },
  {
   "cell_type": "code",
   "execution_count": 48,
   "id": "supposed-handy",
   "metadata": {},
   "outputs": [
    {
     "data": {
      "text/plain": [
       "<matplotlib.collections.LineCollection at 0x7fb82bd266a0>"
      ]
     },
     "execution_count": 48,
     "metadata": {},
     "output_type": "execute_result"
    },
    {
     "data": {
      "image/png": "[encoded data removed]",
      "text/plain": [
       "<Figure size 360x360 with 1 Axes>"
      ]
     },
     "metadata": {
      "needs_background": "light"
     },
     "output_type": "display_data"
    }
   ],
   "source": [
    "n = 10\n",
    "margins = np.zeros(2**n)\n",
    "for i in range(2**n):\n",
    "    margins[i] = (np.sum([int(j) for j in list('{0:0b}'.format(i))]))\n",
    "\n",
    "fig, ax = plt.subplots(figsize=(5,5))\n",
    "counts, bins, _ = ax.hist(margins, color='lightblue')\n",
    "ax.vlines(5.5, color='lightgreen', linestyle='dashed', ymin=0, ymax=max(counts))\n"
   ]
  },
  {
   "cell_type": "markdown",
   "id": "retired-latitude",
   "metadata": {},
   "source": [
    "Perhaps unsurprisingly, this looks a lot like a uniform distribution with a mean centered around a tie. This means that were we to sample an election at random without knowing anything about it, it would be more likely a tie than have a wide margin. \n",
    "\n",
    "If we desire to audit an election, as we sample more and more ballots, the space of possible elections shrinks. Essentially, for $m$ ballots that are sampled, there are $2^{n - m}$ possible elections remaining. For example, imagine we sample two ballots from our example eletion and both are votes for the winner. The distribution of _possible remaining_ elections looks different!"
   ]
  },
  {
   "cell_type": "code",
   "execution_count": 49,
   "id": "quiet-boards",
   "metadata": {},
   "outputs": [
    {
     "data": {
      "image/png": "[encoded data removed]",
      "text/plain": [
       "<Figure size 360x360 with 1 Axes>"
      ]
     },
     "execution_count": 49,
     "metadata": {},
     "output_type": "execute_result"
    }
   ],
   "source": [
    "m = 2\n",
    "audited_margins = np.zeros(2**(n - m))\n",
    "for i in range(2**(n - m)):    \n",
    "    audited_margins[i] = 2 + (np.sum([int(j) for j in list('{0:0b}'.format(i))])) # Add two votes for the \"winner\"\n",
    "ax.cla()\n",
    "counts, bins, _ = ax.hist(audited_margins, range=(0, n), color='red')\n",
    "ax.vlines(5.5, color='lightgreen', linestyle='dashed', ymin=0, ymax=max(counts))\n",
    "fig"
   ]
  },
  {
   "cell_type": "markdown",
   "id": "utility-multiple",
   "metadata": {},
   "source": [
    "To more clearly demonstrate this, let's plot these two distributions on top of each other. The audited distribution is in red: "
   ]
  },
  {
   "cell_type": "code",
   "execution_count": 50,
   "id": "understanding-setup",
   "metadata": {},
   "outputs": [
    {
     "data": {
      "image/png": "[encoded data removed]",
      "text/plain": [
       "<Figure size 360x360 with 1 Axes>"
      ]
     },
     "execution_count": 50,
     "metadata": {},
     "output_type": "execute_result"
    }
   ],
   "source": [
    "counts, _, _ = ax.hist(margins, color='lightblue')\n",
    "_ = ax.hist(audited_margins, range=(0, n), color='red')\n",
    "ax.vlines(5.5, color='lightgreen', linestyle='dashed', ymin=0, ymax=max(counts))\n",
    "fig"
   ]
  },
  {
   "cell_type": "markdown",
   "id": "compound-rogers",
   "metadata": {},
   "source": [
    "It's shifted to the right, and it's a lot smaller! Think about what this is telling us: based on our sample, the total possible elections has dramatically decreased. Moreover, the mean of the audited distribution has moved to the right, because it is _more likely_ that the winner won, given that we have already found two ballots for them. As we sample more, the distribution shrinks and moves more. Let's say that we sample two more ballots, and one is for the winner and one is for the loser.  "
   ]
  },
  {
   "cell_type": "code",
   "execution_count": 51,
   "id": "brave-cornell",
   "metadata": {},
   "outputs": [
    {
     "data": {
      "image/png": "[encoded data removed]",
      "text/plain": [
       "<Figure size 360x360 with 1 Axes>"
      ]
     },
     "execution_count": 51,
     "metadata": {},
     "output_type": "execute_result"
    }
   ],
   "source": [
    "m = 4\n",
    "audited_margins = np.zeros(2**(n - m))\n",
    "\n",
    "for i in range(2**(n - m)):    \n",
    "    audited_margins[i] = (m - 1) + (np.sum([int(j) for j in list('{0:0b}'.format(i))])) # Add two votes for the \"winner\"\n",
    "\n",
    "counts, _, _ = ax.hist(margins, color='lightblue')\n",
    "_ = ax.hist(audited_margins, range=(0, n), color='red')\n",
    "\n",
    "\n",
    "ax.vlines(5.5, color='lightgreen', linestyle='dashed', ymin=0, ymax=max(counts))\n",
    "fig"
   ]
  },
  {
   "cell_type": "markdown",
   "id": "palestinian-suite",
   "metadata": {},
   "source": [
    "Things are getting difficult to make out as our distribution shrinks. Rather than continue on with absolute counts, let's normalize our histograms. Now, rather than representing counts, they show the proportion of possible elections each margin takes up. These are probabilities!"
   ]
  },
  {
   "cell_type": "code",
   "execution_count": 52,
   "id": "diverse-pressing",
   "metadata": {},
   "outputs": [
    {
     "data": {
      "image/png": "[encoded data removed]",
      "text/plain": [
       "<Figure size 360x360 with 1 Axes>"
      ]
     },
     "execution_count": 52,
     "metadata": {},
     "output_type": "execute_result"
    }
   ],
   "source": [
    "ax.cla()\n",
    "counts, _, _ = ax.hist(margins, density=True, color='lightblue')\n",
    "_ = ax.hist(audited_margins, range=(0, n), color='red', alpha=0.5,  density=True)\n",
    "\n",
    "\n",
    "ax.vlines(5.5, color='lightgreen', linestyle='dashed', ymin=0, ymax=max(counts))\n",
    "fig"
   ]
  },
  {
   "cell_type": "markdown",
   "id": "bright-stylus",
   "metadata": {},
   "source": [
    "Whoa! Our audited distribution is taller than our unaudited distribution now! Because both of these distributions are showing proportions, their areas both sum to the same thing. Because our audited distribution has fewer possible bins (there are $2^n - 2^{n - m} fewer options), the area had to go somewhere. This can be thought of as the audit becoming \"more confident\" in the election outcome: the more ballots we look at, the more we know about what the true distribution of ballots is, and we rule out certain distributions by default. \n",
    "\n",
    "Another point of note: since our graphs are now probabilities, we can start to express a level of confidence about the election result. In the context of our example here, the first candidate \"wins\" if the margin is greater than 5, because that means they have more votes than the loser. If we want to be 90% sure that that candidate won, we need to sample ballots until 90% of the area of the distribution above is to the right of a vertical line drawn at 6. "
   ]
  },
  {
   "cell_type": "code",
   "execution_count": 53,
   "id": "medical-weight",
   "metadata": {},
   "outputs": [
    {
     "data": {
      "image/png": "[encoded data removed]",
      "text/plain": [
       "<Figure size 360x360 with 1 Axes>"
      ]
     },
     "execution_count": 53,
     "metadata": {},
     "output_type": "execute_result"
    }
   ],
   "source": [
    "ax.cla()\n",
    "counts, _, _ = ax.hist(margins, color='lightblue', density=True)\n",
    "_ = ax.hist(audited_margins, range=(0, n), color='red', alpha=0.5,  density=True)\n",
    "\n",
    "ax.vlines(6, color='lightgreen', linestyle='dashed', ymin=0, ymax=max(counts))\n",
    "fig"
   ]
  },
  {
   "cell_type": "markdown",
   "id": "falling-repeat",
   "metadata": {},
   "source": [
    "So how do we find the areas here? If we know the proportions of the counts of margins for all elections, in this example we can just add them up where applicable. Because each election is represented as a \"unit\" square in our diagram, adding them together produces an area that is the count of the elections selected by our criteria. So to get our confidence level, we just find all elections where the margin was less than 6 in our example, and divide that by the total number of possible elections, $2^{n - m}$."
   ]
  },
  {
   "cell_type": "code",
   "execution_count": 54,
   "id": "olympic-assurance",
   "metadata": {},
   "outputs": [
    {
     "name": "stdout",
     "output_type": "stream",
     "text": [
      "confidence: 65.62%\n"
     ]
    }
   ],
   "source": [
    "counts, _ = np.histogram(audited_margins)\n",
    "greater_than_5 = sum(counts[5:])\n",
    "\n",
    "print('confidence: {:2.2f}%'.format(100*greater_than_5/2**(n- m)))\n"
   ]
  },
  {
   "cell_type": "markdown",
   "id": "alpha-figure",
   "metadata": {},
   "source": [
    "We're already pretty sure that the winner really won! If we audit two more ballots, and they are votes for the winner: "
   ]
  },
  {
   "cell_type": "code",
   "execution_count": 55,
   "id": "strong-adelaide",
   "metadata": {},
   "outputs": [
    {
     "name": "stdout",
     "output_type": "stream",
     "text": [
      "confidence: 93.75%\n"
     ]
    },
    {
     "data": {
      "image/png": "[encoded data removed]",
      "text/plain": [
       "<Figure size 360x360 with 1 Axes>"
      ]
     },
     "execution_count": 55,
     "metadata": {},
     "output_type": "execute_result"
    }
   ],
   "source": [
    "m = 6\n",
    "audited_margins = np.zeros(2**(n - m))\n",
    "ax.cla()\n",
    "\n",
    "for i in range(2**(n - m)):    \n",
    "    audited_margins[i] = (m - 1) + (np.sum([int(j) for j in list('{0:0b}'.format(i))])) # Add four votes for the \"winner\"\n",
    "\n",
    "counts, bins, _ = ax.hist(margins, bins=11, color='lightblue', density=True)\n",
    "\n",
    "_ = ax.hist(audited_margins, bins=11, range=(0, n), color='red', alpha=0.5,  density=True)\n",
    "\n",
    "\n",
    "ax.vlines(5.5, color='lightgreen', linestyle='dashed', ymin=0, ymax=max(counts))\n",
    "counts, _ = np.histogram(audited_margins, range=(0, 11))\n",
    "greater_than_5 = sum(counts[5:])\n",
    "print('confidence: {:2.2f}%'.format(100*greater_than_5/2**(n- m)))\n",
    "fig"
   ]
  },
  {
   "cell_type": "markdown",
   "id": "white-cruise",
   "metadata": {},
   "source": [
    "Great! We've successsfully done an audit. So long as we're always willing to sample ballots until we either run \n",
    "out of ballots or our confidence level is sufficiently high, this audit could even be considered risk limiting. Showing the process: \n"
   ]
  },
  {
   "cell_type": "code",
   "execution_count": 62,
   "id": "colonial-zealand",
   "metadata": {},
   "outputs": [
    {
     "name": "stdout",
     "output_type": "stream",
     "text": [
      "0 10\n",
      "0 10\n",
      "1 9\n",
      "2 8\n",
      "3 7\n",
      "4 6\n",
      "5 5\n",
      "6 4\n",
      "7 3\n",
      "8 2\n",
      "9 1\n",
      "10 0\n"
     ]
    }
   ],
   "source": [
    "ax.cla()\n",
    "\n",
    "def draw_dist(m):\n",
    "    ax.cla()\n",
    "    n = 10\n",
    "    print(m, n-m)\n",
    "\n",
    "    audited_margins = np.zeros(2**(n - m))\n",
    "    for i in range(2**(n - m)):    \n",
    "        audited_margins[i] = m +(np.sum([int(j) for j in list('{0:0b}'.format(i))])) # Add four votes for the \"winner\"\n",
    "\n",
    "#     counts, bins, patch = \n",
    "    _, _, patches = ax.hist(audited_margins, range=(0, 11), density=True, color='red', alpha=0.5)\n",
    "\n",
    "    ax.vlines(5.5, color='lightgreen', linestyle='dashed', ymin=0, ymax=max(counts))\n",
    "    ax.set_ylim(0,1.0)\n",
    "    return ax, \n",
    "\n",
    "def update(i):\n",
    "    draw_dist(i)\n",
    "\n",
    "anim = FuncAnimation(fig, update, frames=11, interval=1000)\n",
    "anim.save('media/permutation_audit.gif', writer='imagemagick',  fps=1)\n"
   ]
  },
  {
   "cell_type": "code",
   "execution_count": 63,
   "id": "automotive-furniture",
   "metadata": {},
   "outputs": [
    {
     "data": {
      "text/html": [
       "<img src=\"media/permutation_audit.gif\"/>"
      ],
      "text/plain": [
       "<IPython.core.display.Image object>"
      ]
     },
     "execution_count": 63,
     "metadata": {},
     "output_type": "execute_result"
    }
   ],
   "source": [
    "Image(url='media/permutation_audit.gif')"
   ]
  },
  {
   "cell_type": "markdown",
   "id": "sexual-opera",
   "metadata": {},
   "source": [
    "Unfortunately, there's a catch. We've only been looking at a really small election. With only ten ballots, there were already 1024 different possible permutations of elections. Since this is an exponential function, by the time we look at elections of practical size, from several hundred to millions of ballots, permutations will be impossible to use, since the number of possible elections will surpass the number of atoms in the universe! So we need another way to perform the kind of test outlined here. To do so, we will use the distributions we've discussed here to inform a less exact but much more feasile approach using statistics. "
   ]
  },
  {
   "cell_type": "code",
   "execution_count": null,
   "id": "attempted-batman",
   "metadata": {},
   "outputs": [],
   "source": []
  }
 ],
 "metadata": {
  "kernelspec": {
   "display_name": "Python 3",
   "language": "python",
   "name": "python3"
  },
  "language_info": {
   "codemirror_mode": {
    "name": "ipython",
    "version": 3
   },
   "file_extension": ".py",
   "mimetype": "text/x-python",
   "name": "python",
   "nbconvert_exporter": "python",
   "pygments_lexer": "ipython3",
   "version": "3.8.5"
  }
 },
 "nbformat": 4,
 "nbformat_minor": 5
}
